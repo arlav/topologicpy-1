{
 "cells": [
  {
   "cell_type": "code",
   "execution_count": 1,
   "id": "42f00ba4",
   "metadata": {},
   "outputs": [],
   "source": [
    "# You don't need these two lines if you have pip installed topologicpy\n",
    "import sys\n",
    "sys.path.append(\"C:/Users/wassimj/Documents/GitHub/\")"
   ]
  },
  {
   "cell_type": "code",
   "execution_count": 2,
   "id": "5807871c",
   "metadata": {},
   "outputs": [],
   "source": [
    "from topologicpy.Cell import Cell\n",
    "from topologicpy.CellComplex import CellComplex\n",
    "from topologicpy.Topology import Topology\n",
    "from topologicpy.Graph import Graph\n",
    "from topologicpy.Dictionary import Dictionary\n",
    "from topologicpy.Plotly import Plotly"
   ]
  },
  {
   "cell_type": "code",
   "execution_count": 3,
   "id": "6a7fea7e",
   "metadata": {},
   "outputs": [],
   "source": [
    "p = CellComplex.Prism(width=2, uSides=5, vSides=3, wSides=4, placement=\"bottom\")\n",
    "c = Cell.Prism(width=0.8, length=0.8, height=1.2, placement=\"bottom\")\n",
    "p = Topology.Impose(p, c)\n",
    "c = Cell.Prism(width=0.8, length=1.4, height=1.2, placement=\"bottom\")\n",
    "p = Topology.Merge(p, c)\n",
    "Topology.Show(p, renderer=\"notebook\")"
   ]
  },
  {
   "cell_type": "code",
   "execution_count": 4,
   "id": "0817b811",
   "metadata": {},
   "outputs": [],
   "source": [
    "cluster = Topology.Explode(p, scale=1.5)\n",
    "Topology.Show(cluster, faceOpacity=1)"
   ]
  },
  {
   "cell_type": "code",
   "execution_count": 5,
   "id": "077194a5",
   "metadata": {},
   "outputs": [],
   "source": [
    "d = CellComplex.Decompose(p)\n",
    "d['Cells'] = Topology.Cells(p)\n",
    "keys = Dictionary.Keys(d)\n",
    "vertexGroups = []\n",
    "for key in keys:\n",
    "    topologies = d[key]\n",
    "    if len(topologies) > 0:\n",
    "        vertexGroups.append(key)\n",
    "\n",
    "def assignDictionary(topologies, vertexGroup):\n",
    "    for i, t in enumerate(topologies):\n",
    "        d = Dictionary.ByKeysValues([\"id\",\"group\"], [vertexGroup+str(i),vertexGroup])\n",
    "        t = Topology.SetDictionary(t, d)\n",
    "\n",
    "for vertexGroup in vertexGroups:\n",
    "    topologies = d[vertexGroup]\n",
    "    assignDictionary(topologies, vertexGroup)"
   ]
  },
  {
   "cell_type": "code",
   "execution_count": 6,
   "id": "d4933801",
   "metadata": {},
   "outputs": [],
   "source": [
    "g = Graph.ByTopology(p, toExteriorTopologies=True, viaSharedTopologies=True)\n",
    "data01 = Plotly.DataByGraph(g, vertexGroupKey=\"group\", vertexLabelKey=\"group\",\n",
    "                            vertexGroups=vertexGroups, colorScale=\"thermal\")\n",
    "data02 = Plotly.DataByTopology(p, faceOpacity=0)\n",
    "fig = Plotly.FigureByData(data01+data02)\n",
    "Plotly.Show(fig)"
   ]
  },
  {
   "cell_type": "code",
   "execution_count": 7,
   "id": "8bb9491e",
   "metadata": {},
   "outputs": [],
   "source": [
    "Graph.PyvisGraph(g, \"C:/Users/wassimj/notebooks/PyvisGraph.html\",\n",
    "                 backgroundColor=\"white\",\n",
    "                 fontColor=\"black\", vertexLabelKey=\"group\", vertexColor=\"#456789\",\n",
    "                 vertexGroupKey=\"group\", vertexGroups=vertexGroups,\n",
    "                 vertexSize=0, vertexSizeKey=\"degree\", vertexColorKey=None,\n",
    "                 edgeWeightKey=None, notebook=False, colorScale=\"thermal\")"
   ]
  },
  {
   "cell_type": "code",
   "execution_count": null,
   "id": "eff7d8a1",
   "metadata": {},
   "outputs": [],
   "source": []
  },
  {
   "cell_type": "code",
   "execution_count": null,
   "id": "b072b0e7",
   "metadata": {},
   "outputs": [],
   "source": []
  }
 ],
 "metadata": {
  "kernelspec": {
   "display_name": "Python 3 (ipykernel)",
   "language": "python",
   "name": "python3"
  },
  "language_info": {
   "codemirror_mode": {
    "name": "ipython",
    "version": 3
   },
   "file_extension": ".py",
   "mimetype": "text/x-python",
   "name": "python",
   "nbconvert_exporter": "python",
   "pygments_lexer": "ipython3",
   "version": "3.10.9"
  }
 },
 "nbformat": 4,
 "nbformat_minor": 5
}
